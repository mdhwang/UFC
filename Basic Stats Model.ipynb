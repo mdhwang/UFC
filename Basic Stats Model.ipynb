{
 "cells": [
  {
   "cell_type": "code",
   "execution_count": 84,
   "metadata": {},
   "outputs": [
    {
     "ename": "ModuleNotFoundError",
     "evalue": "No module named 'xgboost'",
     "output_type": "error",
     "traceback": [
      "\u001b[0;31m---------------------------------------------------------------------------\u001b[0m",
      "\u001b[0;31mModuleNotFoundError\u001b[0m                       Traceback (most recent call last)",
      "\u001b[0;32m<ipython-input-84-f65900fc8c38>\u001b[0m in \u001b[0;36m<module>\u001b[0;34m\u001b[0m\n\u001b[1;32m     15\u001b[0m \u001b[0mwarnings\u001b[0m\u001b[0;34m.\u001b[0m\u001b[0mfilterwarnings\u001b[0m\u001b[0;34m(\u001b[0m\u001b[0;34m'ignore'\u001b[0m\u001b[0;34m)\u001b[0m\u001b[0;34m\u001b[0m\u001b[0;34m\u001b[0m\u001b[0m\n\u001b[1;32m     16\u001b[0m \u001b[0;34m\u001b[0m\u001b[0m\n\u001b[0;32m---> 17\u001b[0;31m \u001b[0;32mimport\u001b[0m \u001b[0mxgboost\u001b[0m \u001b[0;32mas\u001b[0m \u001b[0mxgb\u001b[0m\u001b[0;34m\u001b[0m\u001b[0;34m\u001b[0m\u001b[0m\n\u001b[0m",
      "\u001b[0;31mModuleNotFoundError\u001b[0m: No module named 'xgboost'"
     ]
    }
   ],
   "source": [
    "from data_cleaning import data_cleaning\n",
    "import numpy as np\n",
    "import pandas as pd\n",
    "\n",
    "\n",
    "from sklearn.tree import DecisionTreeRegressor, DecisionTreeClassifier\n",
    "from sklearn.ensemble import RandomForestRegressor, RandomForestClassifier\n",
    "from sklearn.metrics import log_loss, make_scorer\n",
    "from sklearn.model_selection import cross_val_score, train_test_split, GridSearchCV\n",
    "from sklearn import preprocessing\n",
    "\n",
    "from datetime import datetime\n",
    "\n",
    "import warnings\n",
    "warnings.filterwarnings('ignore')\n",
    "\n",
    "import xgboost as xgb"
   ]
  },
  {
   "cell_type": "markdown",
   "metadata": {},
   "source": [
    "# Script File Sandbox"
   ]
  },
  {
   "cell_type": "code",
   "execution_count": 20,
   "metadata": {},
   "outputs": [],
   "source": [
    "\n",
    "# import numpy as np\n",
    "# import pandas as pd\n",
    "# from sklearn.neighbors import KNeighborsRegressor\n",
    "# import math\n",
    "\n",
    "# def dummies(df, col_name):\n",
    "#    return pd.concat([df.drop(col_name, axis=1), pd.get_dummies(df[col_name])], axis=1)\n",
    "\n",
    "# def data_cleaning(df):\n",
    "#     #Removes Unwatned Columns\n",
    "#     #Removes Unwanted Weight Classes\n",
    "#     #Calculate KNN missing Reach Vals\n",
    "#     #Reduce Outlier Data (Weights)\n",
    "#     #Fills Null Values (AGE)\n",
    "#     #Converts Categorical to Dummies\n",
    "#     #Converts Binary to Boolean\n",
    "    \n",
    "\n",
    "#     #define wanted columns from OG data\n",
    "#     desired_cols = [\n",
    "#         'Winner',\n",
    "#         'weight_class',\n",
    "#         'B_age',\n",
    "#         'B_Height_cms',\n",
    "#         'B_Reach_cms',\n",
    "#         'B_Weight_lbs',\n",
    "#         'R_Height_cms',\n",
    "#         'R_Reach_cms',\n",
    "#         'R_Weight_lbs',\n",
    "#         'R_age',]\n",
    "\n",
    "#     df = df[desired_cols]\n",
    "\n",
    "\n",
    "#     #Fill NaN age values with column means ¯\\_(ツ)_/¯\n",
    "#     df[\"B_age\"] = df[\"B_age\"].fillna(df[\"B_age\"].mean())\n",
    "#     df[\"R_age\"] = df[\"R_age\"].fillna(df[\"R_age\"].mean())\n",
    "    \n",
    "\n",
    "#     #Replace Missing Values using KNN\n",
    "#     #Combine all B and R values together for single master list\n",
    "#     r_cols = [\"R_Height_cms\",\"R_Reach_cms\"]\n",
    "#     b_cols = [\"B_Height_cms\",\"B_Reach_cms\"]\n",
    "#     header = [\"Height\",\"Reach\"]\n",
    "\n",
    "#     R_heights_to_reach = df[r_cols]\n",
    "#     R_heights_to_reach.columns = header\n",
    "#     B_heights_to_reach = df[b_cols]\n",
    "#     B_heights_to_reach.columns = header\n",
    "#     MasterHR = R_heights_to_reach.append(B_heights_to_reach,ignore_index=True)\n",
    "\n",
    "#     #Train the KNN Model\n",
    "#     num_neighbors = 3 \n",
    "#     trainer = MasterHR.dropna()\n",
    "#     X = np.array(list(trainer[\"Height\"])).reshape(len(trainer),1)\n",
    "#     y = np.array(list(trainer[\"Reach\"])).reshape(len(trainer),1)\n",
    "#     nay = KNeighborsRegressor(n_neighbors=num_neighbors).fit(X,y)\n",
    "\n",
    "#     #Replace vals with KNN predictions\n",
    "#     df[\"R_Reach_cms\"] = df.apply(lambda x: nay.predict(np.array(x[\"R_Height_cms\"]).reshape(1,1))[0][0] if math.isnan(x[\"R_Reach_cms\"]) else x[\"R_Reach_cms\"],axis=1)\n",
    "#     df[\"B_Reach_cms\"] = df.apply(lambda x: nay.predict(np.array(x[\"B_Height_cms\"]).reshape(1,1))[0][0] if math.isnan(x[\"B_Reach_cms\"]) else x[\"B_Reach_cms\"],axis=1)\n",
    "\n",
    "\n",
    "#     #Remove unwanted weight divisions (ROWS)\n",
    "#     to_drop = ['Open Weight',\n",
    "#                'Catch Weight',\n",
    "#                \"Women's Strawweight\",\n",
    "#                \"Women's Flyweight\",\n",
    "#                \"Women's Bantamweight\",\n",
    "#                \"Women's Featherweight\"]\n",
    "#     for each in to_drop:\n",
    "#         df = df[df[\"weight_class\"]!=each]\n",
    "    \n",
    "#     #Convert Binary Winner to Boolean\n",
    "#     df[\"Winner\"] = df[\"Winner\"].apply(lambda x: True if x == \"Red\" else False)\n",
    "    \n",
    "#     #Calculate Delta Values (RED WINNER MINUS BLUE LOSER)\n",
    "#     df[\"Reach_Delta\"] = df[\"R_Reach_cms\"] - df[\"B_Reach_cms\"]\n",
    "#     df[\"Height_Delta\"] = df[\"R_Height_cms\"] - df[\"B_Height_cms\"]\n",
    "#     df[\"Weight_Delta\"] = df[\"R_Weight_lbs\"] - df[\"B_Weight_lbs\"]\n",
    "#     df[\"age_Delta\"] = df[\"R_age\"] - df[\"B_age\"]\n",
    "    \n",
    "    \n",
    "#     #Drop Figthers over the 265 Heavyweight limit\n",
    "#     df = df[df[\"R_Weight_lbs\"]<=265]\n",
    "#     df = df[df[\"B_Weight_lbs\"]<=265]\n",
    "    \n",
    "#     #Drop Red vs Blue Data Columns\n",
    "#     cols = [\"R_Reach_cms\",\n",
    "#             \"B_Reach_cms\",\n",
    "#             \"R_Height_cms\",\n",
    "#             \"B_Height_cms\",\n",
    "#             \"R_Weight_lbs\",\n",
    "#             \"B_Weight_lbs\",\n",
    "#             \"R_age\",\n",
    "#             \"B_age\"]\n",
    "#     df = df.drop(columns = cols)\n",
    "    \n",
    "#     df = dummies(df,\"weight_class\")\n",
    "    \n",
    "    \n",
    "#     return df"
   ]
  },
  {
   "cell_type": "markdown",
   "metadata": {},
   "source": [
    "# Import Data"
   ]
  },
  {
   "cell_type": "code",
   "execution_count": 21,
   "metadata": {},
   "outputs": [],
   "source": [
    "#USE UPDATED_DATA.CSV WITH MANUALLY FILLED IN MISSING VALS\n",
    "df = pd.read_csv(\"data/updated_data.csv\")"
   ]
  },
  {
   "cell_type": "code",
   "execution_count": null,
   "metadata": {},
   "outputs": [],
   "source": []
  },
  {
   "cell_type": "code",
   "execution_count": 22,
   "metadata": {},
   "outputs": [],
   "source": [
    "#run the cleaning script\n",
    "cleaned_df = data_cleaning(df);"
   ]
  },
  {
   "cell_type": "code",
   "execution_count": 23,
   "metadata": {},
   "outputs": [
    {
     "data": {
      "text/html": [
       "<div>\n",
       "<style scoped>\n",
       "    .dataframe tbody tr th:only-of-type {\n",
       "        vertical-align: middle;\n",
       "    }\n",
       "\n",
       "    .dataframe tbody tr th {\n",
       "        vertical-align: top;\n",
       "    }\n",
       "\n",
       "    .dataframe thead th {\n",
       "        text-align: right;\n",
       "    }\n",
       "</style>\n",
       "<table border=\"1\" class=\"dataframe\">\n",
       "  <thead>\n",
       "    <tr style=\"text-align: right;\">\n",
       "      <th></th>\n",
       "      <th>Winner</th>\n",
       "      <th>Reach_Delta</th>\n",
       "      <th>Height_Delta</th>\n",
       "      <th>Weight_Delta</th>\n",
       "      <th>age_Delta</th>\n",
       "      <th>Bantamweight</th>\n",
       "      <th>Featherweight</th>\n",
       "      <th>Flyweight</th>\n",
       "      <th>Heavyweight</th>\n",
       "      <th>Light Heavyweight</th>\n",
       "      <th>Lightweight</th>\n",
       "      <th>Middleweight</th>\n",
       "      <th>Welterweight</th>\n",
       "    </tr>\n",
       "  </thead>\n",
       "  <tbody>\n",
       "    <tr>\n",
       "      <th>0</th>\n",
       "      <td>True</td>\n",
       "      <td>-7.62</td>\n",
       "      <td>-5.08</td>\n",
       "      <td>0.0</td>\n",
       "      <td>1.0</td>\n",
       "      <td>1</td>\n",
       "      <td>0</td>\n",
       "      <td>0</td>\n",
       "      <td>0</td>\n",
       "      <td>0</td>\n",
       "      <td>0</td>\n",
       "      <td>0</td>\n",
       "      <td>0</td>\n",
       "    </tr>\n",
       "    <tr>\n",
       "      <th>2</th>\n",
       "      <td>True</td>\n",
       "      <td>7.62</td>\n",
       "      <td>-5.08</td>\n",
       "      <td>0.0</td>\n",
       "      <td>-1.0</td>\n",
       "      <td>0</td>\n",
       "      <td>0</td>\n",
       "      <td>0</td>\n",
       "      <td>0</td>\n",
       "      <td>0</td>\n",
       "      <td>1</td>\n",
       "      <td>0</td>\n",
       "      <td>0</td>\n",
       "    </tr>\n",
       "    <tr>\n",
       "      <th>3</th>\n",
       "      <td>False</td>\n",
       "      <td>2.54</td>\n",
       "      <td>-7.62</td>\n",
       "      <td>0.0</td>\n",
       "      <td>3.0</td>\n",
       "      <td>1</td>\n",
       "      <td>0</td>\n",
       "      <td>0</td>\n",
       "      <td>0</td>\n",
       "      <td>0</td>\n",
       "      <td>0</td>\n",
       "      <td>0</td>\n",
       "      <td>0</td>\n",
       "    </tr>\n",
       "    <tr>\n",
       "      <th>4</th>\n",
       "      <td>False</td>\n",
       "      <td>5.08</td>\n",
       "      <td>7.62</td>\n",
       "      <td>14.0</td>\n",
       "      <td>-6.0</td>\n",
       "      <td>0</td>\n",
       "      <td>0</td>\n",
       "      <td>0</td>\n",
       "      <td>1</td>\n",
       "      <td>0</td>\n",
       "      <td>0</td>\n",
       "      <td>0</td>\n",
       "      <td>0</td>\n",
       "    </tr>\n",
       "    <tr>\n",
       "      <th>6</th>\n",
       "      <td>True</td>\n",
       "      <td>15.24</td>\n",
       "      <td>2.54</td>\n",
       "      <td>0.0</td>\n",
       "      <td>-3.0</td>\n",
       "      <td>1</td>\n",
       "      <td>0</td>\n",
       "      <td>0</td>\n",
       "      <td>0</td>\n",
       "      <td>0</td>\n",
       "      <td>0</td>\n",
       "      <td>0</td>\n",
       "      <td>0</td>\n",
       "    </tr>\n",
       "  </tbody>\n",
       "</table>\n",
       "</div>"
      ],
      "text/plain": [
       "   Winner  Reach_Delta  Height_Delta  Weight_Delta  age_Delta  Bantamweight  \\\n",
       "0    True        -7.62         -5.08           0.0        1.0             1   \n",
       "2    True         7.62         -5.08           0.0       -1.0             0   \n",
       "3   False         2.54         -7.62           0.0        3.0             1   \n",
       "4   False         5.08          7.62          14.0       -6.0             0   \n",
       "6    True        15.24          2.54           0.0       -3.0             1   \n",
       "\n",
       "   Featherweight  Flyweight  Heavyweight  Light Heavyweight  Lightweight  \\\n",
       "0              0          0            0                  0            0   \n",
       "2              0          0            0                  0            1   \n",
       "3              0          0            0                  0            0   \n",
       "4              0          0            1                  0            0   \n",
       "6              0          0            0                  0            0   \n",
       "\n",
       "   Middleweight  Welterweight  \n",
       "0             0             0  \n",
       "2             0             0  \n",
       "3             0             0  \n",
       "4             0             0  \n",
       "6             0             0  "
      ]
     },
     "execution_count": 23,
     "metadata": {},
     "output_type": "execute_result"
    }
   ],
   "source": [
    "cleaned_df.head()"
   ]
  },
  {
   "cell_type": "code",
   "execution_count": 24,
   "metadata": {},
   "outputs": [
    {
     "data": {
      "text/plain": [
       "(array([1.000e+00, 4.000e+00, 1.300e+01, 3.500e+01, 4.900e+02, 3.228e+03,\n",
       "        7.710e+02, 1.130e+02, 2.400e+01, 3.000e+00]),\n",
       " array([-109.01 ,  -90.109,  -71.208,  -52.307,  -33.406,  -14.505,\n",
       "           4.396,   23.297,   42.198,   61.099,   80.   ]),\n",
       " <a list of 10 Patch objects>)"
      ]
     },
     "execution_count": 24,
     "metadata": {},
     "output_type": "execute_result"
    }
   ],
   "source": [
    "import matplotlib.pyplot as plt\n",
    "plt.hist(cleaned_df[\"Weight_Delta\"])"
   ]
  },
  {
   "cell_type": "code",
   "execution_count": 25,
   "metadata": {},
   "outputs": [
    {
     "data": {
      "text/plain": [
       "count    4682.000000\n",
       "mean        0.211933\n",
       "std        12.049275\n",
       "min      -109.010000\n",
       "25%         0.000000\n",
       "50%         0.000000\n",
       "75%         0.000000\n",
       "max        80.000000\n",
       "Name: Weight_Delta, dtype: float64"
      ]
     },
     "execution_count": 25,
     "metadata": {},
     "output_type": "execute_result"
    }
   ],
   "source": [
    "cleaned_df[\"Weight_Delta\"].describe()"
   ]
  },
  {
   "cell_type": "code",
   "execution_count": 26,
   "metadata": {},
   "outputs": [
    {
     "name": "stdout",
     "output_type": "stream",
     "text": [
      "<class 'pandas.core.frame.DataFrame'>\n",
      "Int64Index: 4682 entries, 0 to 5037\n",
      "Data columns (total 13 columns):\n",
      "Winner               4682 non-null bool\n",
      "Reach_Delta          4682 non-null float64\n",
      "Height_Delta         4682 non-null float64\n",
      "Weight_Delta         4682 non-null float64\n",
      "age_Delta            4682 non-null float64\n",
      "Bantamweight         4682 non-null uint8\n",
      "Featherweight        4682 non-null uint8\n",
      "Flyweight            4682 non-null uint8\n",
      "Heavyweight          4682 non-null uint8\n",
      "Light Heavyweight    4682 non-null uint8\n",
      "Lightweight          4682 non-null uint8\n",
      "Middleweight         4682 non-null uint8\n",
      "Welterweight         4682 non-null uint8\n",
      "dtypes: bool(1), float64(4), uint8(8)\n",
      "memory usage: 224.0 KB\n"
     ]
    }
   ],
   "source": [
    "cleaned_df.info()"
   ]
  },
  {
   "cell_type": "markdown",
   "metadata": {},
   "source": [
    "# Start Modeling"
   ]
  },
  {
   "cell_type": "markdown",
   "metadata": {},
   "source": [
    "## Split Data"
   ]
  },
  {
   "cell_type": "code",
   "execution_count": 27,
   "metadata": {},
   "outputs": [],
   "source": [
    "y = cleaned_df[\"Winner\"]\n",
    "X = cleaned_df.drop(\"Winner\",axis = 1)\n",
    "X_train, X_test, y_train, y_test = train_test_split(X,y,random_state = 0)"
   ]
  },
  {
   "cell_type": "markdown",
   "metadata": {},
   "source": [
    "## Random Forest Setup"
   ]
  },
  {
   "cell_type": "code",
   "execution_count": 82,
   "metadata": {},
   "outputs": [
    {
     "data": {
      "text/plain": [
       "RandomForestClassifier(bootstrap=True, class_weight=None, criterion='gini',\n",
       "            max_depth=3, max_features='auto', max_leaf_nodes=None,\n",
       "            min_impurity_decrease=0.0, min_impurity_split=None,\n",
       "            min_samples_leaf=1, min_samples_split=2,\n",
       "            min_weight_fraction_leaf=0.0, n_estimators=100, n_jobs=None,\n",
       "            oob_score=False, random_state=None, verbose=0,\n",
       "            warm_start=False)"
      ]
     },
     "execution_count": 82,
     "metadata": {},
     "output_type": "execute_result"
    }
   ],
   "source": [
    "clf = RandomForestClassifier(n_estimators=100,max_depth = 3)\n",
    "clf.fit(X_train,y_train)"
   ]
  },
  {
   "cell_type": "markdown",
   "metadata": {},
   "source": [
    "## Run Random Forest"
   ]
  },
  {
   "cell_type": "code",
   "execution_count": 29,
   "metadata": {},
   "outputs": [
    {
     "name": "stdout",
     "output_type": "stream",
     "text": [
      "Accuracy :  0.64\n",
      "Recall (reality):  0.82\n",
      "Precision (prediction):  0.7\n"
     ]
    }
   ],
   "source": [
    "accuracy = clf.score(X_test,y_test)\n",
    "conf_dict = {'TT': 0, 'FF':0, 'TF':0, 'FT':0}\n",
    "tot = len(y_test)\n",
    "for i in range(tot):\n",
    "    abbrev = str(clf.predict(X_test)[i])[0] + str(y_test.iloc[i])[0]\n",
    "    conf_dict[abbrev] += 1\n",
    "recall = conf_dict['TT']/(conf_dict['TT'] + conf_dict['FT'])\n",
    "precision = conf_dict['TT']/(conf_dict['TT'] + conf_dict['TF'])\n",
    "print('Accuracy : ',round(accuracy,2))\n",
    "print('Recall (reality): ',round(recall,2))\n",
    "print('Precision (prediction): ',round(precision,2))"
   ]
  },
  {
   "cell_type": "code",
   "execution_count": null,
   "metadata": {},
   "outputs": [],
   "source": []
  },
  {
   "cell_type": "code",
   "execution_count": null,
   "metadata": {},
   "outputs": [],
   "source": []
  },
  {
   "cell_type": "code",
   "execution_count": null,
   "metadata": {},
   "outputs": [],
   "source": []
  },
  {
   "cell_type": "code",
   "execution_count": null,
   "metadata": {},
   "outputs": [],
   "source": []
  },
  {
   "cell_type": "code",
   "execution_count": null,
   "metadata": {},
   "outputs": [],
   "source": []
  },
  {
   "cell_type": "code",
   "execution_count": null,
   "metadata": {},
   "outputs": [],
   "source": []
  },
  {
   "cell_type": "markdown",
   "metadata": {},
   "source": [
    "# KENNY LOGGINS"
   ]
  },
  {
   "cell_type": "code",
   "execution_count": null,
   "metadata": {},
   "outputs": [],
   "source": []
  },
  {
   "cell_type": "code",
   "execution_count": null,
   "metadata": {},
   "outputs": [],
   "source": []
  },
  {
   "cell_type": "code",
   "execution_count": null,
   "metadata": {},
   "outputs": [],
   "source": []
  },
  {
   "cell_type": "code",
   "execution_count": null,
   "metadata": {},
   "outputs": [],
   "source": []
  },
  {
   "cell_type": "code",
   "execution_count": 81,
   "metadata": {},
   "outputs": [],
   "source": [
    "now = datetime.now()\n",
    "dt_string = now.strftime(\"%m-%d-%Y_%H:%M:%S\")\n",
    "\n",
    "file = open('logs/{}.txt'.format(dt_string),'w')\n",
    "\n",
    "\n",
    "cols = X.columns\n",
    "\n",
    "file.write('Modeling Tests ran at {}'.format(dt_string))\n",
    "file.write('\\n')\n",
    "file.write('\\n')\n",
    "file.write('---------Features Included-----------')\n",
    "file.write('\\n')\n",
    "for each in cols:\n",
    "    file.write(each)\n",
    "    file.write('\\n')\n",
    "file.write('\\n')\n",
    "file.write('\\n')\n",
    "file.write('---------RANDOM FOREST-----------')\n",
    "file.write('\\n')\n",
    "file.write(str(clf.get_params()))\n",
    "file.write('\\n')\n",
    "file.write('\\n')\n",
    "file.write('RF Accuracy : {} \\n'.format(round(accuracy,2)))\n",
    "file.write('RF Recall : {} \\n'.format(round(recall,2)))\n",
    "file.write('RF Precision : {} \\n'.format(round(precision,2)))\n",
    "file.write('\\n')\n",
    "RF_FeatImp = zip((clf.feature_importances_).round(2),cols)\n",
    "for each in RF_FeatImp:\n",
    "    file.write(str(each))\n",
    "    file.write(\"\\n\")\n",
    "file.close()"
   ]
  },
  {
   "cell_type": "code",
   "execution_count": null,
   "metadata": {},
   "outputs": [],
   "source": []
  },
  {
   "cell_type": "code",
   "execution_count": 36,
   "metadata": {},
   "outputs": [],
   "source": []
  },
  {
   "cell_type": "code",
   "execution_count": null,
   "metadata": {
    "scrolled": true
   },
   "outputs": [],
   "source": []
  },
  {
   "cell_type": "code",
   "execution_count": null,
   "metadata": {},
   "outputs": [],
   "source": []
  },
  {
   "cell_type": "code",
   "execution_count": null,
   "metadata": {},
   "outputs": [],
   "source": []
  },
  {
   "cell_type": "code",
   "execution_count": null,
   "metadata": {},
   "outputs": [],
   "source": []
  },
  {
   "cell_type": "code",
   "execution_count": null,
   "metadata": {},
   "outputs": [],
   "source": []
  },
  {
   "cell_type": "code",
   "execution_count": null,
   "metadata": {},
   "outputs": [],
   "source": []
  },
  {
   "cell_type": "code",
   "execution_count": null,
   "metadata": {},
   "outputs": [],
   "source": []
  },
  {
   "cell_type": "code",
   "execution_count": null,
   "metadata": {},
   "outputs": [],
   "source": []
  },
  {
   "cell_type": "code",
   "execution_count": null,
   "metadata": {},
   "outputs": [],
   "source": []
  },
  {
   "cell_type": "code",
   "execution_count": null,
   "metadata": {},
   "outputs": [],
   "source": []
  },
  {
   "cell_type": "code",
   "execution_count": null,
   "metadata": {},
   "outputs": [],
   "source": []
  },
  {
   "cell_type": "markdown",
   "metadata": {},
   "source": [
    "# EWIC XGBOOST"
   ]
  },
  {
   "cell_type": "code",
   "execution_count": null,
   "metadata": {},
   "outputs": [],
   "source": [
    "model = xgb.XGBRegressor(colsample_bytree=0.4,\n",
    "                gamma=0,\n",
    "                learning_rate=0.07,\n",
    "                max_depth=3,\n",
    "                min_child_weight=1.5,\n",
    "                n_estimators=10000,\n",
    "                reg_alpha=0.75,\n",
    "                reg_lambda=0.45,\n",
    "                subsample=0.6,\n",
    "                seed=42)"
   ]
  },
  {
   "cell_type": "code",
   "execution_count": null,
   "metadata": {},
   "outputs": [],
   "source": [
    "predict=model.predict(X_test)\n",
    "model.score(X_test,y_test)"
   ]
  },
  {
   "cell_type": "code",
   "execution_count": null,
   "metadata": {},
   "outputs": [],
   "source": []
  },
  {
   "cell_type": "code",
   "execution_count": 50,
   "metadata": {},
   "outputs": [],
   "source": []
  },
  {
   "cell_type": "code",
   "execution_count": null,
   "metadata": {},
   "outputs": [],
   "source": []
  }
 ],
 "metadata": {
  "kernelspec": {
   "display_name": "Python 3",
   "language": "python",
   "name": "python3"
  },
  "language_info": {
   "codemirror_mode": {
    "name": "ipython",
    "version": 3
   },
   "file_extension": ".py",
   "mimetype": "text/x-python",
   "name": "python",
   "nbconvert_exporter": "python",
   "pygments_lexer": "ipython3",
   "version": "3.7.3"
  }
 },
 "nbformat": 4,
 "nbformat_minor": 2
}
