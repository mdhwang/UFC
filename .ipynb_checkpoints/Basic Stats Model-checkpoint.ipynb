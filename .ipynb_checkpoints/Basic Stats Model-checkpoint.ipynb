{
 "cells": [
  {
   "cell_type": "code",
   "execution_count": 31,
   "metadata": {},
   "outputs": [],
   "source": [
    "from data_cleaning import data_cleaning\n",
    "import numpy as np\n",
    "import pandas as pd\n",
    "\n",
    "\n",
    "from sklearn.tree import DecisionTreeRegressor, DecisionTreeClassifier\n",
    "from sklearn.ensemble import RandomForestRegressor, RandomForestClassifier\n",
    "from sklearn.metrics import log_loss, make_scorer\n",
    "from sklearn.model_selection import cross_val_score, train_test_split, GridSearchCV\n",
    "from sklearn import preprocessing"
   ]
  },
  {
   "cell_type": "code",
   "execution_count": 32,
   "metadata": {},
   "outputs": [],
   "source": [
    "\n",
    "# import numpy as np\n",
    "# import pandas as pd\n",
    "# from sklearn.neighbors import KNeighborsRegressor\n",
    "# import math\n",
    "\n",
    "# def dummies(df, col_name):\n",
    "#    return pd.concat([df.drop(col_name, axis=1), pd.get_dummies(df[col_name])], axis=1)\n",
    "\n",
    "# def data_cleaning(df):\n",
    "#     #Removes Unwatned Columns\n",
    "#     #Removes Unwanted Weight Classes\n",
    "#     #Calculate KNN missing Reach Vals\n",
    "#     #Reduce Outlier Data (Weights)\n",
    "#     #Fills Null Values (AGE)\n",
    "#     #Converts Categorical to Dummies\n",
    "#     #Converts Binary to Boolean\n",
    "    \n",
    "\n",
    "#     #define wanted columns from OG data\n",
    "#     desired_cols = [\n",
    "#         'Winner',\n",
    "#         'weight_class',\n",
    "#         'B_age',\n",
    "#         'B_Height_cms',\n",
    "#         'B_Reach_cms',\n",
    "#         'B_Weight_lbs',\n",
    "#         'R_Height_cms',\n",
    "#         'R_Reach_cms',\n",
    "#         'R_Weight_lbs',\n",
    "#         'R_age',]\n",
    "\n",
    "#     df = df[desired_cols]\n",
    "\n",
    "\n",
    "#     #Fill NaN age values with column means ¯\\_(ツ)_/¯\n",
    "#     df[\"B_age\"] = df[\"B_age\"].fillna(df[\"B_age\"].mean())\n",
    "#     df[\"R_age\"] = df[\"R_age\"].fillna(df[\"R_age\"].mean())\n",
    "    \n",
    "\n",
    "#     #Replace Missing Values using KNN\n",
    "#     #Combine all B and R values together for single master list\n",
    "#     r_cols = [\"R_Height_cms\",\"R_Reach_cms\"]\n",
    "#     b_cols = [\"B_Height_cms\",\"B_Reach_cms\"]\n",
    "#     header = [\"Height\",\"Reach\"]\n",
    "\n",
    "#     R_heights_to_reach = df[r_cols]\n",
    "#     R_heights_to_reach.columns = header\n",
    "#     B_heights_to_reach = df[b_cols]\n",
    "#     B_heights_to_reach.columns = header\n",
    "#     MasterHR = R_heights_to_reach.append(B_heights_to_reach,ignore_index=True)\n",
    "\n",
    "#     #Train the KNN Model\n",
    "#     num_neighbors = 3 \n",
    "#     trainer = MasterHR.dropna()\n",
    "#     X = np.array(list(trainer[\"Height\"])).reshape(len(trainer),1)\n",
    "#     y = np.array(list(trainer[\"Reach\"])).reshape(len(trainer),1)\n",
    "#     nay = KNeighborsRegressor(n_neighbors=num_neighbors).fit(X,y)\n",
    "\n",
    "#     #Replace vals with KNN predictions\n",
    "#     df[\"R_Reach_cms\"] = df.apply(lambda x: nay.predict(np.array(x[\"R_Height_cms\"]).reshape(1,1))[0][0] if math.isnan(x[\"R_Reach_cms\"]) else x[\"R_Reach_cms\"],axis=1)\n",
    "#     df[\"B_Reach_cms\"] = df.apply(lambda x: nay.predict(np.array(x[\"B_Height_cms\"]).reshape(1,1))[0][0] if math.isnan(x[\"B_Reach_cms\"]) else x[\"B_Reach_cms\"],axis=1)\n",
    "\n",
    "\n",
    "#     #Remove unwanted weight divisions (ROWS)\n",
    "#     to_drop = ['Open Weight',\n",
    "#                'Catch Weight',\n",
    "#                \"Women's Strawweight\",\n",
    "#                \"Women's Flyweight\",\n",
    "#                \"Women's Bantamweight\",\n",
    "#                \"Women's Featherweight\"]\n",
    "#     for each in to_drop:\n",
    "#         df = df[df[\"weight_class\"]!=each]\n",
    "    \n",
    "#     #Convert Binary Winner to Boolean\n",
    "#     df[\"Winner\"] = df[\"Winner\"].apply(lambda x: True if x == \"Red\" else False)\n",
    "    \n",
    "#     #Calculate Delta Values (RED WINNER MINUS BLUE LOSER)\n",
    "#     df[\"Reach_Delta\"] = df[\"R_Reach_cms\"] - df[\"B_Reach_cms\"]\n",
    "#     df[\"Height_Delta\"] = df[\"R_Height_cms\"] - df[\"B_Height_cms\"]\n",
    "#     df[\"Weight_Delta\"] = df[\"R_Weight_lbs\"] - df[\"B_Weight_lbs\"]\n",
    "#     df[\"age_Delta\"] = df[\"R_age\"] - df[\"B_age\"]\n",
    "    \n",
    "    \n",
    "#     #Drop Figthers over the 265 Heavyweight limit\n",
    "#     df = df[df[\"R_Weight_lbs\"]<=265]\n",
    "#     df = df[df[\"B_Weight_lbs\"]<=265]\n",
    "    \n",
    "#     #Drop Red vs Blue Data Columns\n",
    "#     cols = [\"R_Reach_cms\",\n",
    "#             \"B_Reach_cms\",\n",
    "#             \"R_Height_cms\",\n",
    "#             \"B_Height_cms\",\n",
    "#             \"R_Weight_lbs\",\n",
    "#             \"B_Weight_lbs\",\n",
    "#             \"R_age\",\n",
    "#             \"B_age\"]\n",
    "#     df = df.drop(columns = cols)\n",
    "    \n",
    "#     df = dummies(df,\"weight_class\")\n",
    "    \n",
    "    \n",
    "#     return df"
   ]
  },
  {
   "cell_type": "code",
   "execution_count": 33,
   "metadata": {},
   "outputs": [],
   "source": [
    "#USE UPDATED_DATA.CSV WITH MANUALLY FILLED IN MISSING VALS\n",
    "df = pd.read_csv(\"data/updated_data.csv\")"
   ]
  },
  {
   "cell_type": "code",
   "execution_count": null,
   "metadata": {},
   "outputs": [],
   "source": []
  },
  {
   "cell_type": "code",
   "execution_count": 34,
   "metadata": {},
   "outputs": [
    {
     "name": "stderr",
     "output_type": "stream",
     "text": [
      "/Users/matthewhwang/Galvanize/Capstone2/UFC/data_cleaning.py:37: SettingWithCopyWarning: \n",
      "A value is trying to be set on a copy of a slice from a DataFrame.\n",
      "Try using .loc[row_indexer,col_indexer] = value instead\n",
      "\n",
      "See the caveats in the documentation: http://pandas.pydata.org/pandas-docs/stable/indexing.html#indexing-view-versus-copy\n",
      "  df[\"B_age\"] = df[\"B_age\"].fillna(df[\"B_age\"].mean())\n",
      "/Users/matthewhwang/Galvanize/Capstone2/UFC/data_cleaning.py:38: SettingWithCopyWarning: \n",
      "A value is trying to be set on a copy of a slice from a DataFrame.\n",
      "Try using .loc[row_indexer,col_indexer] = value instead\n",
      "\n",
      "See the caveats in the documentation: http://pandas.pydata.org/pandas-docs/stable/indexing.html#indexing-view-versus-copy\n",
      "  df[\"R_age\"] = df[\"R_age\"].fillna(df[\"R_age\"].mean())\n",
      "/Users/matthewhwang/Galvanize/Capstone2/UFC/data_cleaning.py:61: SettingWithCopyWarning: \n",
      "A value is trying to be set on a copy of a slice from a DataFrame.\n",
      "Try using .loc[row_indexer,col_indexer] = value instead\n",
      "\n",
      "See the caveats in the documentation: http://pandas.pydata.org/pandas-docs/stable/indexing.html#indexing-view-versus-copy\n",
      "  df[\"R_Reach_cms\"] = df.apply(lambda x: nay.predict(np.array(x[\"R_Height_cms\"]).reshape(1,1))[0][0] if math.isnan(x[\"R_Reach_cms\"]) else x[\"R_Reach_cms\"],axis=1)\n",
      "/Users/matthewhwang/Galvanize/Capstone2/UFC/data_cleaning.py:62: SettingWithCopyWarning: \n",
      "A value is trying to be set on a copy of a slice from a DataFrame.\n",
      "Try using .loc[row_indexer,col_indexer] = value instead\n",
      "\n",
      "See the caveats in the documentation: http://pandas.pydata.org/pandas-docs/stable/indexing.html#indexing-view-versus-copy\n",
      "  df[\"B_Reach_cms\"] = df.apply(lambda x: nay.predict(np.array(x[\"B_Height_cms\"]).reshape(1,1))[0][0] if math.isnan(x[\"B_Reach_cms\"]) else x[\"B_Reach_cms\"],axis=1)\n"
     ]
    }
   ],
   "source": [
    "cleaned_df = data_cleaning(df)"
   ]
  },
  {
   "cell_type": "code",
   "execution_count": 35,
   "metadata": {},
   "outputs": [
    {
     "data": {
      "text/html": [
       "<div>\n",
       "<style scoped>\n",
       "    .dataframe tbody tr th:only-of-type {\n",
       "        vertical-align: middle;\n",
       "    }\n",
       "\n",
       "    .dataframe tbody tr th {\n",
       "        vertical-align: top;\n",
       "    }\n",
       "\n",
       "    .dataframe thead th {\n",
       "        text-align: right;\n",
       "    }\n",
       "</style>\n",
       "<table border=\"1\" class=\"dataframe\">\n",
       "  <thead>\n",
       "    <tr style=\"text-align: right;\">\n",
       "      <th></th>\n",
       "      <th>Winner</th>\n",
       "      <th>Reach_Delta</th>\n",
       "      <th>Height_Delta</th>\n",
       "      <th>Weight_Delta</th>\n",
       "      <th>age_Delta</th>\n",
       "      <th>Bantamweight</th>\n",
       "      <th>Featherweight</th>\n",
       "      <th>Flyweight</th>\n",
       "      <th>Heavyweight</th>\n",
       "      <th>Light Heavyweight</th>\n",
       "      <th>Lightweight</th>\n",
       "      <th>Middleweight</th>\n",
       "      <th>Welterweight</th>\n",
       "    </tr>\n",
       "  </thead>\n",
       "  <tbody>\n",
       "    <tr>\n",
       "      <th>0</th>\n",
       "      <td>True</td>\n",
       "      <td>-7.62</td>\n",
       "      <td>-5.08</td>\n",
       "      <td>0.0</td>\n",
       "      <td>1.0</td>\n",
       "      <td>1</td>\n",
       "      <td>0</td>\n",
       "      <td>0</td>\n",
       "      <td>0</td>\n",
       "      <td>0</td>\n",
       "      <td>0</td>\n",
       "      <td>0</td>\n",
       "      <td>0</td>\n",
       "    </tr>\n",
       "    <tr>\n",
       "      <th>2</th>\n",
       "      <td>True</td>\n",
       "      <td>7.62</td>\n",
       "      <td>-5.08</td>\n",
       "      <td>0.0</td>\n",
       "      <td>-1.0</td>\n",
       "      <td>0</td>\n",
       "      <td>0</td>\n",
       "      <td>0</td>\n",
       "      <td>0</td>\n",
       "      <td>0</td>\n",
       "      <td>1</td>\n",
       "      <td>0</td>\n",
       "      <td>0</td>\n",
       "    </tr>\n",
       "    <tr>\n",
       "      <th>3</th>\n",
       "      <td>False</td>\n",
       "      <td>2.54</td>\n",
       "      <td>-7.62</td>\n",
       "      <td>0.0</td>\n",
       "      <td>3.0</td>\n",
       "      <td>1</td>\n",
       "      <td>0</td>\n",
       "      <td>0</td>\n",
       "      <td>0</td>\n",
       "      <td>0</td>\n",
       "      <td>0</td>\n",
       "      <td>0</td>\n",
       "      <td>0</td>\n",
       "    </tr>\n",
       "    <tr>\n",
       "      <th>4</th>\n",
       "      <td>False</td>\n",
       "      <td>5.08</td>\n",
       "      <td>7.62</td>\n",
       "      <td>14.0</td>\n",
       "      <td>-6.0</td>\n",
       "      <td>0</td>\n",
       "      <td>0</td>\n",
       "      <td>0</td>\n",
       "      <td>1</td>\n",
       "      <td>0</td>\n",
       "      <td>0</td>\n",
       "      <td>0</td>\n",
       "      <td>0</td>\n",
       "    </tr>\n",
       "    <tr>\n",
       "      <th>6</th>\n",
       "      <td>True</td>\n",
       "      <td>15.24</td>\n",
       "      <td>2.54</td>\n",
       "      <td>0.0</td>\n",
       "      <td>-3.0</td>\n",
       "      <td>1</td>\n",
       "      <td>0</td>\n",
       "      <td>0</td>\n",
       "      <td>0</td>\n",
       "      <td>0</td>\n",
       "      <td>0</td>\n",
       "      <td>0</td>\n",
       "      <td>0</td>\n",
       "    </tr>\n",
       "  </tbody>\n",
       "</table>\n",
       "</div>"
      ],
      "text/plain": [
       "   Winner  Reach_Delta  Height_Delta  Weight_Delta  age_Delta  Bantamweight  \\\n",
       "0    True        -7.62         -5.08           0.0        1.0             1   \n",
       "2    True         7.62         -5.08           0.0       -1.0             0   \n",
       "3   False         2.54         -7.62           0.0        3.0             1   \n",
       "4   False         5.08          7.62          14.0       -6.0             0   \n",
       "6    True        15.24          2.54           0.0       -3.0             1   \n",
       "\n",
       "   Featherweight  Flyweight  Heavyweight  Light Heavyweight  Lightweight  \\\n",
       "0              0          0            0                  0            0   \n",
       "2              0          0            0                  0            1   \n",
       "3              0          0            0                  0            0   \n",
       "4              0          0            1                  0            0   \n",
       "6              0          0            0                  0            0   \n",
       "\n",
       "   Middleweight  Welterweight  \n",
       "0             0             0  \n",
       "2             0             0  \n",
       "3             0             0  \n",
       "4             0             0  \n",
       "6             0             0  "
      ]
     },
     "execution_count": 35,
     "metadata": {},
     "output_type": "execute_result"
    }
   ],
   "source": [
    "cleaned_df.head()"
   ]
  },
  {
   "cell_type": "code",
   "execution_count": 36,
   "metadata": {},
   "outputs": [
    {
     "data": {
      "text/plain": [
       "(array([1.000e+00, 4.000e+00, 1.300e+01, 3.500e+01, 4.900e+02, 3.228e+03,\n",
       "        7.710e+02, 1.130e+02, 2.400e+01, 3.000e+00]),\n",
       " array([-109.01 ,  -90.109,  -71.208,  -52.307,  -33.406,  -14.505,\n",
       "           4.396,   23.297,   42.198,   61.099,   80.   ]),\n",
       " <a list of 10 Patch objects>)"
      ]
     },
     "execution_count": 36,
     "metadata": {},
     "output_type": "execute_result"
    },
    {
     "data": {
      "image/png": "[encoded data removed]",
      "text/plain": [
       "<Figure size 432x288 with 1 Axes>"
      ]
     },
     "metadata": {
      "needs_background": "light"
     },
     "output_type": "display_data"
    }
   ],
   "source": [
    "import matplotlib.pyplot as plt\n",
    "plt.hist(cleaned_df[\"Weight_Delta\"])"
   ]
  },
  {
   "cell_type": "code",
   "execution_count": 37,
   "metadata": {},
   "outputs": [
    {
     "data": {
      "text/plain": [
       "count    4682.000000\n",
       "mean        0.211933\n",
       "std        12.049275\n",
       "min      -109.010000\n",
       "25%         0.000000\n",
       "50%         0.000000\n",
       "75%         0.000000\n",
       "max        80.000000\n",
       "Name: Weight_Delta, dtype: float64"
      ]
     },
     "execution_count": 37,
     "metadata": {},
     "output_type": "execute_result"
    }
   ],
   "source": [
    "cleaned_df[\"Weight_Delta\"].describe()"
   ]
  },
  {
   "cell_type": "code",
   "execution_count": 38,
   "metadata": {},
   "outputs": [
    {
     "name": "stdout",
     "output_type": "stream",
     "text": [
      "<class 'pandas.core.frame.DataFrame'>\n",
      "Int64Index: 4682 entries, 0 to 5037\n",
      "Data columns (total 13 columns):\n",
      "Winner               4682 non-null bool\n",
      "Reach_Delta          4682 non-null float64\n",
      "Height_Delta         4682 non-null float64\n",
      "Weight_Delta         4682 non-null float64\n",
      "age_Delta            4682 non-null float64\n",
      "Bantamweight         4682 non-null uint8\n",
      "Featherweight        4682 non-null uint8\n",
      "Flyweight            4682 non-null uint8\n",
      "Heavyweight          4682 non-null uint8\n",
      "Light Heavyweight    4682 non-null uint8\n",
      "Lightweight          4682 non-null uint8\n",
      "Middleweight         4682 non-null uint8\n",
      "Welterweight         4682 non-null uint8\n",
      "dtypes: bool(1), float64(4), uint8(8)\n",
      "memory usage: 224.0 KB\n"
     ]
    }
   ],
   "source": [
    "cleaned_df.info()"
   ]
  },
  {
   "cell_type": "code",
   "execution_count": 39,
   "metadata": {},
   "outputs": [],
   "source": [
    "y = cleaned_df[\"Winner\"]\n",
    "X = cleaned_df.drop(\"Winner\",axis = 1)\n",
    "X_train, X_test, y_train, y_test = train_test_split(X,y,random_state = 0)"
   ]
  },
  {
   "cell_type": "code",
   "execution_count": 40,
   "metadata": {},
   "outputs": [
    {
     "data": {
      "text/plain": [
       "RandomForestClassifier(bootstrap=True, class_weight=None, criterion='gini',\n",
       "            max_depth=None, max_features='auto', max_leaf_nodes=None,\n",
       "            min_impurity_decrease=0.0, min_impurity_split=None,\n",
       "            min_samples_leaf=1, min_samples_split=2,\n",
       "            min_weight_fraction_leaf=0.0, n_estimators=100, n_jobs=None,\n",
       "            oob_score=False, random_state=None, verbose=0,\n",
       "            warm_start=False)"
      ]
     },
     "execution_count": 40,
     "metadata": {},
     "output_type": "execute_result"
    }
   ],
   "source": [
    "clf = RandomForestClassifier(n_estimators=100)\n",
    "clf.fit(X_train,y_train)"
   ]
  },
  {
   "cell_type": "code",
   "execution_count": 41,
   "metadata": {},
   "outputs": [
    {
     "name": "stdout",
     "output_type": "stream",
     "text": [
      "Accuracy :  0.65\n",
      "Recall (reality):  0.82\n",
      "Precision (prediction):  0.7\n"
     ]
    }
   ],
   "source": [
    "accuracy = clf.score(X_test,y_test)\n",
    "conf_dict = {'TT': 0, 'FF':0, 'TF':0, 'FT':0}\n",
    "tot = len(y_test)\n",
    "for i in range(tot):\n",
    "    abbrev = str(clf.predict(X_test)[i])[0] + str(y_test.iloc[i])[0]\n",
    "    conf_dict[abbrev] += 1\n",
    "recall = conf_dict['TT']/(conf_dict['TT'] + conf_dict['FT'])\n",
    "precision = conf_dict['TT']/(conf_dict['TT'] + conf_dict['TF'])\n",
    "print('Accuracy : ',round(accuracy,2))\n",
    "print('Recall (reality): ',round(recall,2))\n",
    "print('Precision (prediction): ',round(precision,2))"
   ]
  },
  {
   "cell_type": "code",
   "execution_count": null,
   "metadata": {},
   "outputs": [],
   "source": []
  },
  {
   "cell_type": "code",
   "execution_count": null,
   "metadata": {},
   "outputs": [],
   "source": []
  }
 ],
 "metadata": {
  "kernelspec": {
   "display_name": "Python 3",
   "language": "python",
   "name": "python3"
  },
  "language_info": {
   "codemirror_mode": {
    "name": "ipython",
    "version": 3
   },
   "file_extension": ".py",
   "mimetype": "text/x-python",
   "name": "python",
   "nbconvert_exporter": "python",
   "pygments_lexer": "ipython3",
   "version": "3.7.3"
  }
 },
 "nbformat": 4,
 "nbformat_minor": 2
}
